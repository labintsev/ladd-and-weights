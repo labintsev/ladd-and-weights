{
 "cells": [
  {
   "cell_type": "markdown",
   "id": "51fb038b-aaa9-4e9e-9ef2-99c28d8e2f3e",
   "metadata": {},
   "source": [
    "# Abstract \n",
    "We introduce an object detection dataset named Lacmus, aiming at specific task - find missing people on the drone images. The images in the dataset were captured over grass and small trees areas of 5 different locations across Russia Central Region. Lacmus dataset has more than 7000 annotated instances in 3125 images with annotations, including Pedestrian bounding boxes. Having the specific purpose, such dataset enables extensive evaluation and investigation of visual analysis algorithms on the drone platform. We hope the dataset boost both the research and development, that helps to save the lives of missing people. "
   ]
  },
  {
   "cell_type": "markdown",
   "id": "2f8b924a-bd10-489d-832d-6f7251ca81ae",
   "metadata": {},
   "source": [
    "## Introduction\n",
    "According to rough estimates, more than one hundred thousand people disappear in Russia every year. A significant part of them are people who have lost their way far from human habitation. Fortunately, some of the lost are chosen by themselves, and volunteer search and rescue teams are mobilized to help others. \n",
    "The main search methods at the moment, in the XXI century, are on foot combing the surroundings using technical means, which are often no more complicated than a siren or a buzzing beacon. The topic, of course, is relevant and hot, generates many ideas for using in search of achievements of scientific and technological progress; some of them are even embodied in the form of prototypes and tested at specially organized competitions. But a forest is a forest, and the real conditions of the search, coupled with limited material resources, make this problem difficult and still very far from a complete solution.\n",
    "In recent years, rescuers have increasingly used unmanned aerial vehicles (UAVs) to inspect large areas of the territory, photographing the area from a height of 40-50 m. From one search and rescue operation, several thousand photos are obtained, which today the volunteers look at manually. It is clear that such processing is long and inefficient. After two hours of such work, the volunteers get tired and cannot continue the search, but people's health and lives depend on its speed.\n",
    "Together with search and rescue teams, we are developing a program to search for missing people in images taken from UAVs. As machine learning specialists, we try to make the search automatic and fast.\n"
   ]
  },
  {
   "cell_type": "markdown",
   "id": "d0f56aa3-9c8f-49fd-b7b8-0d303a902b7e",
   "metadata": {},
   "source": [
    "## Methods\n"
   ]
  },
  {
   "cell_type": "markdown",
   "id": "9d878328-33bb-44ec-93af-6a5cd19bb45b",
   "metadata": {},
   "source": [
    "## Results\n"
   ]
  },
  {
   "cell_type": "markdown",
   "id": "ea634c3c-f815-4a55-a885-99b2f9d52376",
   "metadata": {},
   "source": [
    "## Discussion"
   ]
  },
  {
   "cell_type": "code",
   "execution_count": 24,
   "id": "63220c10-a5fd-417c-92d9-4c88c57b684f",
   "metadata": {},
   "outputs": [
    {
     "name": "stdout",
     "output_type": "stream",
     "text": [
      "Images: 3128, Boxes: 8197\n"
     ]
    }
   ],
   "source": [
    "import xml.etree.ElementTree as ET\n",
    "import glob\n",
    "\n",
    "all_n_boxes = []\n",
    "ann_names = glob.glob('Annotations/*.xml')\n",
    "\n",
    "for ann in ann_names:\n",
    "    tree = ET.parse(ann)\n",
    "    root = tree.getroot()\n",
    "    n_boxes = len(list(root.iter('bndbox')))\n",
    "    all_n_boxes.append(n_boxes)\n",
    "\n",
    "print(f'Images: {len(all_n_boxes)}, Boxes: {sum(all_n_boxes)}')"
   ]
  },
  {
   "cell_type": "code",
   "execution_count": 25,
   "id": "1691f51e-befb-4dc7-ae14-77ef4666757d",
   "metadata": {},
   "outputs": [
    {
     "name": "stdout",
     "output_type": "stream",
     "text": [
      "320\n"
     ]
    }
   ],
   "source": [
    "# Here we delete **some** images with anomaly high number of bounding boxes\n",
    "max_boxes = max(all_n_boxes)\n",
    "all_n_boxes.remove(max_boxes)\n",
    "print(max_boxes)"
   ]
  },
  {
   "cell_type": "code",
   "execution_count": 20,
   "id": "513aa4b5-964d-4c36-8d9a-4547fba6defa",
   "metadata": {},
   "outputs": [
    {
     "data": {
      "text/plain": [
       "(array([618., 863., 745., 312., 127.,  66.,  67.,  59., 145.,  51.,  15.,\n",
       "          8.,   3.,   5.,   5.,   6.,   6.,   2.,   3.,   4.,   2.,   3.,\n",
       "          4.,   1.,   1.,   0.,   1.,   0.,   1.,   1.,   0.,   0.]),\n",
       " array([ 0.,  1.,  2.,  3.,  4.,  5.,  6.,  7.,  8.,  9., 10., 11., 12.,\n",
       "        13., 14., 15., 16., 17., 18., 19., 20., 21., 22., 23., 24., 25.,\n",
       "        26., 27., 28., 29., 30., 31., 32.]),\n",
       " <BarContainer object of 32 artists>)"
      ]
     },
     "execution_count": 20,
     "metadata": {},
     "output_type": "execute_result"
    },
    {
     "data": {
      "image/png": "[encoded data removed]",
      "text/plain": [
       "<Figure size 640x480 with 1 Axes>"
      ]
     },
     "metadata": {},
     "output_type": "display_data"
    }
   ],
   "source": [
    "import matplotlib.pyplot as plt\n",
    "\n",
    "plt.hist(all_n_boxes, bins=range(33))"
   ]
  },
  {
   "cell_type": "code",
   "execution_count": 9,
   "id": "fa402215-286e-4a03-84fd-3e8fc5ba1ee8",
   "metadata": {},
   "outputs": [
    {
     "data": {
      "text/plain": [
       "8"
      ]
     },
     "execution_count": 9,
     "metadata": {},
     "output_type": "execute_result"
    }
   ],
   "source": []
  }
 ],
 "metadata": {
  "kernelspec": {
   "display_name": "Python 3 (ipykernel)",
   "language": "python",
   "name": "python3"
  },
  "language_info": {
   "codemirror_mode": {
    "name": "ipython",
    "version": 3
   },
   "file_extension": ".py",
   "mimetype": "text/x-python",
   "name": "python",
   "nbconvert_exporter": "python",
   "pygments_lexer": "ipython3",
   "version": "3.9.13"
  }
 },
 "nbformat": 4,
 "nbformat_minor": 5
}
