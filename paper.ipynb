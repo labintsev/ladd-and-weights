{
 "cells": [
  {
   "cell_type": "code",
   "execution_count": 10,
   "id": "7ba255cf-6fcb-486a-98af-460c0cb4ac23",
   "metadata": {},
   "outputs": [],
   "source": [
    "import xml.etree.ElementTree as ET\n",
    "import glob\n",
    "\n",
    "all_n_boxes = []\n",
    "ann_names = glob.glob('Annotations/*.xml')"
   ]
  },
  {
   "cell_type": "code",
   "execution_count": 11,
   "id": "d3c93da0-94ac-4003-91fc-d3a37649771a",
   "metadata": {},
   "outputs": [],
   "source": [
    "for ann in ann_names:\n",
    "    tree = ET.parse(ann)\n",
    "    root = tree.getroot()\n",
    "    n_boxes = len(list(root.iter('bndbox')))\n",
    "    all_n_boxes.append(n_boxes)"
   ]
  },
  {
   "cell_type": "code",
   "execution_count": 15,
   "id": "1691f51e-befb-4dc7-ae14-77ef4666757d",
   "metadata": {},
   "outputs": [
    {
     "name": "stdout",
     "output_type": "stream",
     "text": [
      "33\n"
     ]
    }
   ],
   "source": [
    "max_boxes = max(all_n_boxes)\n",
    "all_n_boxes.remove(max_boxes)\n",
    "print(max_boxes)"
   ]
  },
  {
   "cell_type": "code",
   "execution_count": 16,
   "id": "513aa4b5-964d-4c36-8d9a-4547fba6defa",
   "metadata": {},
   "outputs": [
    {
     "data": {
      "text/plain": [
       "(array([2.226e+03, 5.050e+02, 2.710e+02, 7.400e+01, 1.300e+01, 1.400e+01,\n",
       "        9.000e+00, 8.000e+00, 2.000e+00, 2.000e+00]),\n",
       " array([ 0. ,  2.9,  5.8,  8.7, 11.6, 14.5, 17.4, 20.3, 23.2, 26.1, 29. ]),\n",
       " <BarContainer object of 10 artists>)"
      ]
     },
     "execution_count": 16,
     "metadata": {},
     "output_type": "execute_result"
    },
    {
     "data": {
      "image/png": "[encoded data removed]",
      "text/plain": [
       "<Figure size 640x480 with 1 Axes>"
      ]
     },
     "metadata": {},
     "output_type": "display_data"
    }
   ],
   "source": [
    "import matplotlib.pyplot as plt\n",
    "\n",
    "plt.hist(all_n_boxes)"
   ]
  },
  {
   "cell_type": "code",
   "execution_count": 9,
   "id": "fa402215-286e-4a03-84fd-3e8fc5ba1ee8",
   "metadata": {},
   "outputs": [
    {
     "data": {
      "text/plain": [
       "8"
      ]
     },
     "execution_count": 9,
     "metadata": {},
     "output_type": "execute_result"
    }
   ],
   "source": []
  }
 ],
 "metadata": {
  "kernelspec": {
   "display_name": "Python 3 (ipykernel)",
   "language": "python",
   "name": "python3"
  },
  "language_info": {
   "codemirror_mode": {
    "name": "ipython",
    "version": 3
   },
   "file_extension": ".py",
   "mimetype": "text/x-python",
   "name": "python",
   "nbconvert_exporter": "python",
   "pygments_lexer": "ipython3",
   "version": "3.11.2"
  }
 },
 "nbformat": 4,
 "nbformat_minor": 5
}
