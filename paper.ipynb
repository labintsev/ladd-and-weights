{
 "cells": [
  {
   "cell_type": "markdown",
   "id": "51fb038b-aaa9-4e9e-9ef2-99c28d8e2f3e",
   "metadata": {},
   "source": [
    "# Abstract \n",
    "We introduce an object detection dataset named Lacmus, aiming at specific task - find missing people on the drone images. The images in the dataset were captured over grass and small trees areas of 5 different locations across Russia Central Region. Lacmus dataset has more than 5000 annotated instances in 1552 images with annotations, including Pedestrian bounding boxes. Having the specific purpose, such dataset enables extensive evaluation and investigation of visual analysis algorithms on the drone platform. We hope the dataset boost both the research and development, that helps to save the lives of missing people. "
   ]
  },
  {
   "cell_type": "markdown",
   "id": "358839d2-48fe-4c62-af70-4a76f1569eed",
   "metadata": {},
   "source": [
    "## Introduction\n",
    "According to rough estimates, more than one hundred thousand people disappear in Russia every year. A significant part of them are people who have lost their way far from human habitation. Fortunately, some of the lost are chosen by themselves, and volunteer search and rescue teams are mobilized to help others. \n",
    "The main search methods at the moment, in the XXI century, are on foot combing the surroundings using technical means, which are often no more complicated than a siren or a buzzing beacon. The topic, of course, is relevant and hot, generates many ideas for using in search of achievements of scientific and technological progress; some of them are even embodied in the form of prototypes and tested at specially organized competitions. But a forest is a forest, and the real conditions of the search, coupled with limited material resources, make this problem difficult and still very far from a complete solution.\n",
    "In recent years, rescuers have increasingly used unmanned aerial vehicles (UAVs) to inspect large areas of the territory, photographing the area from a height of 40-50 m. From one search and rescue operation, several thousand photos are obtained, which today the volunteers look at manually. It is clear that such processing is long and inefficient. After two hours of such work, the volunteers get tired and cannot continue the search, but people's health and lives depend on its speed.\n",
    "Together with search and rescue teams, we are developing a program to search for missing people in images taken from UAVs. As machine learning specialists, we try to make the search automatic and fast."
   ]
  },
  {
   "cell_type": "markdown",
   "id": "b08c7018-64ec-4f3b-8674-35ef09d1e022",
   "metadata": {},
   "source": [
    "### Related works \n",
    "\n",
    "The VisDrone dataset is currently widely used for evaluating unmanned aerial vehicle (UAV) object detection. It was curated and created by the Machine Learning and Data Mining Laboratory team at Tianjin University in 2018. The dataset comprises 10,209 images, with 6471 images allocated for training, 548 images for validation, and 3190 images for testing. It encompasses a total of 10 object categories, namely, pedestrian, people, bicycle, car, van, truck, tricycle, awning-tricycle, bus, and motorbike.\n",
    "\n",
    "UAVDT is a dataset for single-object tracking and multi-object tracking tasks, with a resolution of 1024 × 540 pixels and a total of 80,000 frames from 100 videos. Each frame is annotated with three object classes: cars, buses, and trucks. Due to the specific nature of the original annotations, in this study, only frames from the multi-object tracking task were used for object detection.\n",
    "\n",
    "SeaDronesSee is a large-scale data set aimed at helping develop systems for Search and Rescue (SAR) using Unmanned Aerial Vehicles (UAVs) in maritime scenarios. Building highly complex autonomous UAV systems that aid in SAR missions requires robust computer vision algorithms to detect and track objects or persons of interest. This data set provides three sets of tracks: object detection, single-object tracking and multi-object tracking. Each track consists of its own data set and leaderboard. Object Detection part contains 5,630 train images, 859 validation images, 1,796 testing images.  \n",
    "\n",
    "A special database called HERIDAL was compiled for training purposes, and it contains over 68,750 image patches of wilderness acquired from an aerial perspective as well as approximately 500 labelled full-size real-world images intended for testing purposes. The proposed method achieved a detection rate of 88.9% and a precision of 34.8%, which demonstrates better effectiveness than the system currently used by Croatian Mountain search and rescue (SAR) teams (IPSAR), which is based on mean-shift segmentation. We also used the HERIDAL database to train and test a state-of-the-art region proposal network, Faster R-CNN (Ren et al. in Faster R-CNN: towards real-time object detection with region proposal networks, 2015. CoRR arXiv:1506.01497), which achieved comparable but slightly worse results than those of our proposed method.\n",
    "\n",
    "SARD [68] comprises 1,981 manually labeled images extracted from video frames of persons simulating search and rescue situations in roads, quarries, grass land, and forested areas, under diverse weather conditions. However, both datasets lack rich generalization characteristics and environmental diversity. The recently published WiSARD [11] dataset, comprises the richest set of images associated with wilderness SAR scenarios, with 33,786 labeled RGB images, 22,156 labeled thermal images, and a subset consisting of 15,453 temporally synchronized visual-thermal image pairs. In addition to the useful multimodal imagery, the dataset includes environmental diversity across seasons and times of the day and night. WiSARD represents the richest dataset for blind search in wilderness scenarios, that is, search for any person on an area rather than the search for an specific person; NOMAD provides richer demographic diversity, includes man-made scenarios, provides rich metadata of actors, controlled multi-scales, and provides a new benchmark for occlusion. It is the only dataset, to our knowledge, to systematically address the issue of occlusion.  \n",
    "\n",
    "Special aerial datasets have been created to apply in Emergency Response Scenarios. Natural Occluded Multiscale Aerial Dataset (NOMAD) presents a benchmark for human detection under occluded aerial views, with five different aerial distances and rich imagery variance. NOMAD is composed of 100 different Actors, all performing sequences of walking, laying and hiding. It includes 42,825 frames, extracted from 5.4k resolution videos, and manually annotated with a bounding box and a label describing 10 different visibility levels, categorized according to the\n",
    "percentage of the human body visible inside the bounding box. This allows computer vision models to be evaluated on their detection performance across different ranges of occlusion. NOMAD is designed to improve the effectiveness of aerial search and rescue and to enhance collaboration between sUAS and humans, by providing a new benchmark dataset for human detection under occluded aerial views.   "
   ]
  },
  {
   "cell_type": "markdown",
   "id": "243fc157-1d57-4a32-920e-6ebdcaa8d243",
   "metadata": {},
   "source": [
    "### Dataset description \n",
    "\n",
    "Dataset has 1552 images with more than 5000 annotated objects. \n",
    "There are five folds of images collected from different areas and seasons: \n",
    "- 0 : 410 winter Moscow 2019;\n",
    "- 411 : 768 summer Moscow 2019;\n",
    "- 769 : 1036 spring Korolev 2019;\n",
    "- 1037 : 1421 summer Tambov 2019;\n",
    "- 1422 : 1551 summer Nnovgorod 2021."
   ]
  },
  {
   "cell_type": "code",
   "execution_count": 2,
   "id": "63220c10-a5fd-417c-92d9-4c88c57b684f",
   "metadata": {},
   "outputs": [
    {
     "name": "stdout",
     "output_type": "stream",
     "text": [
      "Images: 1552, Boxes: 5134\n"
     ]
    }
   ],
   "source": [
    "import xml.etree.ElementTree as ET\n",
    "import glob\n",
    "from PIL import Image\n",
    "import matplotlib.pyplot as plt\n",
    "\n",
    "all_n_boxes = {}\n",
    "ann_names = glob.glob('dataset/full_train_ds/Annotations/*.xml')\n",
    "\n",
    "for ann in ann_names:\n",
    "    tree = ET.parse(ann)\n",
    "    root = tree.getroot()\n",
    "    n_boxes = len(list(root.iter('bndbox')))\n",
    "    all_n_boxes[ann] = n_boxes\n",
    "\n",
    "print(f'Images: {len(all_n_boxes)}, Boxes: {sum(all_n_boxes.values())}')"
   ]
  },
  {
   "cell_type": "code",
   "execution_count": 3,
   "id": "d4d09453-b6b3-4ee3-88f9-b49a377a0865",
   "metadata": {},
   "outputs": [
    {
     "data": {
      "text/plain": [
       "1552"
      ]
     },
     "execution_count": 3,
     "metadata": {},
     "output_type": "execute_result"
    }
   ],
   "source": [
    "img_names = glob.glob('dataset/full_train_ds/JPEGImages/*')\n",
    "len(img_names)"
   ]
  },
  {
   "cell_type": "markdown",
   "id": "acf49abb-56cd-464e-9c53-78bdd3102f3d",
   "metadata": {},
   "source": [
    "Most of images have resolution (4000,3000) and more. Some have less height about 2250 or 2280 px. "
   ]
  },
  {
   "cell_type": "code",
   "execution_count": 27,
   "id": "6173f4f1-6634-42ad-af92-e15197e46731",
   "metadata": {
    "scrolled": true
   },
   "outputs": [
    {
     "data": {
      "text/plain": [
       "<BarContainer object of 7 artists>"
      ]
     },
     "execution_count": 27,
     "metadata": {},
     "output_type": "execute_result"
    },
    {
     "data": {
      "image/png": "[encoded data removed]",
      "text/plain": [
       "<Figure size 1200x400 with 1 Axes>"
      ]
     },
     "metadata": {},
     "output_type": "display_data"
    }
   ],
   "source": [
    "from collections import Counter\n",
    "\n",
    "img_sizes = []\n",
    "for img_n in img_names:\n",
    "    img = Image.open(img_n)\n",
    "    img_sizes.append(img.size)\n",
    "    \n",
    "c = Counter(img_sizes)\n",
    "names = [str(k) for k in c.keys()]\n",
    "values = list(c.values())\n",
    "plt.figure(figsize=(12, 4))\n",
    "plt.grid()\n",
    "plt.bar(names, values)"
   ]
  },
  {
   "cell_type": "code",
   "execution_count": 32,
   "id": "513aa4b5-964d-4c36-8d9a-4547fba6defa",
   "metadata": {},
   "outputs": [
    {
     "data": {
      "text/plain": [
       "(array([ 57., 475., 379., 219.,  95.,  49.,  50.,  45., 132.,  44.,   3.,\n",
       "          1.]),\n",
       " array([ 0.,  1.,  2.,  3.,  4.,  5.,  6.,  7.,  8.,  9., 10., 11., 12.]),\n",
       " <BarContainer object of 12 artists>)"
      ]
     },
     "execution_count": 32,
     "metadata": {},
     "output_type": "execute_result"
    },
    {
     "data": {
      "image/png": "[encoded data removed]",
      "text/plain": [
       "<Figure size 1200x400 with 1 Axes>"
      ]
     },
     "metadata": {},
     "output_type": "display_data"
    }
   ],
   "source": [
    "plt.figure(figsize=(12, 4))\n",
    "plt.grid()\n",
    "plt.hist(all_n_boxes.values(), bins=range(13))"
   ]
  },
  {
   "cell_type": "markdown",
   "id": "317e7333-3648-4588-87ad-f01890e8946c",
   "metadata": {},
   "source": [
    "We have some images with anomaly high number of bounding boxes. "
   ]
  },
  {
   "cell_type": "code",
   "execution_count": 28,
   "id": "4bf04b82-ed19-4b64-a5b7-12f8da2b07c4",
   "metadata": {
    "scrolled": true
   },
   "outputs": [
    {
     "name": "stdout",
     "output_type": "stream",
     "text": [
      "Max number of boxes: 320\n",
      "dataset/full_train_ds/Annotations/915.xml\n"
     ]
    }
   ],
   "source": [
    "max_boxes = max(all_n_boxes.values())\n",
    "print(f'Max number of boxes: {max_boxes}')\n",
    "\n",
    "for k, v in all_n_boxes.items():\n",
    "    if v == max_boxes:\n",
    "        max_boxes_key = k\n",
    "        print(k)"
   ]
  },
  {
   "cell_type": "code",
   "execution_count": 44,
   "id": "1637a04a-b183-47f1-b3a1-d3af78c32515",
   "metadata": {
    "scrolled": true
   },
   "outputs": [],
   "source": [
    "# We can remove it or fix wrong annotation?\n",
    "# all_n_boxes.pop(max_boxes_key)"
   ]
  },
  {
   "cell_type": "markdown",
   "id": "2781e6ca-f09e-4bfd-883a-961eef80f9e3",
   "metadata": {},
   "source": [
    "Dataset has many objects in this images:  \n",
    "915.jpg - 320 objects  \n",
    "1006.jpg - 168 objects  \n"
   ]
  },
  {
   "cell_type": "markdown",
   "id": "7e6fe720-95ad-4d14-b29c-f313346a8237",
   "metadata": {},
   "source": [
    "Also, dataset has 57 backgroud images with no objects: "
   ]
  },
  {
   "cell_type": "code",
   "execution_count": 8,
   "id": "1477a6b7-d7c6-4dc3-be66-8f35dca39596",
   "metadata": {},
   "outputs": [],
   "source": [
    "# Here they are, but do we really need them?\n",
    "no_boxes = ['1082', '1084', '1047', '1108', '1060', '1083', '1058', '1069', '1111', '1105', '1085', '1086', '1040', '1116', '1109', '1071', '354', '1062', '1046', '298', '1042', '1052', '1076', '1115', '1101', '1073', '1095', '1107', '1068', '1061', '1066', '160', '1092', '1053', '1057', '1037', '1114', '1038', '1041', '1112', '83', '1045', '1096', '1087', '1055', '1102', '1099', '1080', '1039', '1054', '1065', '1077', '1100', '1059', '1067', '1081', '1070']"
   ]
  },
  {
   "cell_type": "code",
   "execution_count": 9,
   "id": "3df95ac8-ae01-488a-afe1-65c8bae24d6f",
   "metadata": {},
   "outputs": [
    {
     "data": {
      "text/plain": [
       "57"
      ]
     },
     "execution_count": 9,
     "metadata": {},
     "output_type": "execute_result"
    }
   ],
   "source": [
    "len(no_boxes)"
   ]
  },
  {
   "cell_type": "markdown",
   "id": "b3adc2d9-e0c5-4a69-8555-5abf2a7a32da",
   "metadata": {},
   "source": [
    "## Methods\n",
    " \n",
    "Train yolov8[n,s,m,l,x] with different imgsz = [640, 1280, 1920] on different image crops [11, 21, 32].   \n",
    "\n",
    "Hyperparams are [default](https://docs.ultralytics.com/modes/train/).  \n",
    "Overrides: \n",
    "- optimizer='AdamW',\n",
    "- lr0=0.001,\n",
    "- lrf=0.001,\n",
    "- mixup=0.5,\n",
    "- flipud=0.5,\n",
    "- box=15."
   ]
  },
  {
   "cell_type": "markdown",
   "id": "edd1c105-a269-40ed-9646-6e0c9c7b9f72",
   "metadata": {},
   "source": [
    "# Results"
   ]
  },
  {
   "cell_type": "markdown",
   "id": "3eed565f-7a93-4ac6-ae31-b548e11c2033",
   "metadata": {
    "jp-MarkdownHeadingCollapsed": true
   },
   "source": [
    "#### Original images\n",
    "\n",
    "Precision / Recall, %\n",
    "\n",
    "| input size | yolov8n | yolov8s  | yolov8m  | yolov8l  | yolov8x  |\n",
    "|-------|---|---|---|---|---|\n",
    "| 640   |   |   |   |   |   |\n",
    "| 1280  |   |   |   |   |   |\n",
    "| 1920  |   |   |   |   |   |"
   ]
  },
  {
   "cell_type": "markdown",
   "id": "3e2d291e-952f-4d4b-b1d3-b7320deb5215",
   "metadata": {
    "jp-MarkdownHeadingCollapsed": true
   },
   "source": [
    "#### Crops 2x1  \n",
    "\n",
    "Precision / Recall, %\n",
    "\n",
    "| input size | yolov8n | yolov8s  | yolov8m  | yolov8l  | yolov8x  |\n",
    "|-------|---|---|---|---|---|\n",
    "| 640   |   |   |   |   |   |\n",
    "| 1280  |   |   |   |   |   |\n",
    "| 1920  |   |   |   |   |   |"
   ]
  },
  {
   "cell_type": "markdown",
   "id": "e9f4ff7e-c164-4df3-bed4-4a4585f682c5",
   "metadata": {
    "jp-MarkdownHeadingCollapsed": true
   },
   "source": [
    "#### Crops 3x2  \n",
    "Precision / Recall, %\n",
    "| input size | yolov8n | yolov8s | yolov8m  | yolov8l | yolov8x |\n",
    "|-------     |---      |---      |---       |---      |---      |\n",
    "| 640        | 26 / 40 |         | 41 / 42  |         | 34 / 40 |\n",
    "| 1280       |   |   |   |   |   |\n",
    "| 1920       |   |   |   |   |   |"
   ]
  },
  {
   "cell_type": "markdown",
   "id": "3a22dcf9-1e52-4474-8066-30f8c8283035",
   "metadata": {},
   "source": [
    "## Discussion"
   ]
  }
 ],
 "metadata": {
  "kernelspec": {
   "display_name": "Python 3 (ipykernel)",
   "language": "python",
   "name": "python3"
  },
  "language_info": {
   "codemirror_mode": {
    "name": "ipython",
    "version": 3
   },
   "file_extension": ".py",
   "mimetype": "text/x-python",
   "name": "python",
   "nbconvert_exporter": "python",
   "pygments_lexer": "ipython3",
   "version": "3.9.19"
  }
 },
 "nbformat": 4,
 "nbformat_minor": 5
}
